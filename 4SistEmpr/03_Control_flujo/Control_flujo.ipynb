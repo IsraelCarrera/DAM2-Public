{
 "cells": [
  {
   "cell_type": "markdown",
   "id": "1bae5e95",
   "metadata": {},
   "source": [
    "__Cuaderno de trabajo de:__ Israel Carrera Manzaneque"
   ]
  },
  {
   "cell_type": "markdown",
   "id": "faaf0aee",
   "metadata": {},
   "source": [
    "# Funciones, condicionales y bucles"
   ]
  },
  {
   "cell_type": "markdown",
   "id": "48ebbb44",
   "metadata": {},
   "source": [
    "## Funciones"
   ]
  },
  {
   "cell_type": "code",
   "execution_count": 1,
   "id": "23ce11c2",
   "metadata": {},
   "outputs": [
    {
     "name": "stdout",
     "output_type": "stream",
     "text": [
      "4\n"
     ]
    }
   ],
   "source": [
    "def f(x):\n",
    "    return x*x\n",
    "\n",
    "x=2\n",
    "print(f(x))"
   ]
  },
  {
   "cell_type": "code",
   "execution_count": 2,
   "id": "29692c4d",
   "metadata": {},
   "outputs": [
    {
     "name": "stdout",
     "output_type": "stream",
     "text": [
      "es mayor\n"
     ]
    }
   ],
   "source": [
    "def f(x,y):\n",
    "    if x < y :\n",
    "        print (\"es mayor\")\n",
    "\n",
    "f(1,2)        # es mayor\n",
    "f(2,1)        #\n",
    "f(1,1)        #"
   ]
  },
  {
   "cell_type": "code",
   "execution_count": 3,
   "id": "8d6f1356",
   "metadata": {},
   "outputs": [
    {
     "name": "stdout",
     "output_type": "stream",
     "text": [
      "es mayor\n",
      "es menor\n",
      "es menor\n"
     ]
    }
   ],
   "source": [
    "def f(x,y):\n",
    "    if x < y :\n",
    "        print (\"es mayor\")\n",
    "    else:\n",
    "        print (\"es menor\")\n",
    "\n",
    "f(1,2)        # es mayor\n",
    "f(2,1)        # es menor\n",
    "f(1,1)        # es menor"
   ]
  },
  {
   "cell_type": "code",
   "execution_count": 4,
   "id": "cc288038",
   "metadata": {},
   "outputs": [
    {
     "name": "stdout",
     "output_type": "stream",
     "text": [
      "es mayor\n",
      "es menor\n",
      "es igual\n",
      "es mayor\n",
      "es menor\n",
      "es igual\n"
     ]
    }
   ],
   "source": [
    "def f(x,y):\n",
    "    if x < y :\n",
    "        print (\"es mayor\")\n",
    "    elif x == y:\n",
    "        print (\"es igual\")\n",
    "    else:\n",
    "        print (\"es menor\")\n",
    "\n",
    "f(1,2)        # es mayor\n",
    "f(2,1)        # es menor\n",
    "f(1,1)        # es igual\n",
    "\n",
    "f(\"A\",\"B\")    # es mayor\n",
    "f(\"B\",\"A\")    # es menor\n",
    "f(\"A\",\"A\")    # es igual"
   ]
  },
  {
   "cell_type": "code",
   "execution_count": 5,
   "id": "651f8c66",
   "metadata": {},
   "outputs": [
    {
     "name": "stdout",
     "output_type": "stream",
     "text": [
      "entre 0-10\n",
      "entre 20-30\n"
     ]
    }
   ],
   "source": [
    "def f(x):\n",
    "    if x > 0  and x <= 10 :\n",
    "        print (\"entre 0-10\") \n",
    "    if x > 10  and x <= 20 :\n",
    "        print (\"entre 10-20\") \n",
    "    if x > 20  and x <= 30 :\n",
    "        print (\"entre 20-30\") \n",
    "    if x > 30  and x <= 40 :\n",
    "        print (\"entre 30-40\") \n",
    "\n",
    "f(1)          # entre 0-10\n",
    "f(22)         # entre 20-30"
   ]
  },
  {
   "cell_type": "markdown",
   "id": "8dffa2f5",
   "metadata": {},
   "source": [
    "podríamos pasar varios valores que retornar"
   ]
  },
  {
   "cell_type": "code",
   "execution_count": 6,
   "id": "0e580060",
   "metadata": {},
   "outputs": [
    {
     "name": "stdout",
     "output_type": "stream",
     "text": [
      "2\n",
      "6\n"
     ]
    }
   ],
   "source": [
    "def f(x, y):\n",
    "    return x * 2, y * 3\n",
    "\n",
    "a, b = f(1, 2)\n",
    "print(a)      # 2\n",
    "print(b)      # 6"
   ]
  },
  {
   "cell_type": "markdown",
   "id": "53a99975",
   "metadata": {},
   "source": [
    "### Funcion anónima lambda\n",
    "Primero declaramos la función lambda que será guardada en una variable y le pasamos los parámetros que vamos a necesitar y después solo tenemos que realizar la acción que necesitamos."
   ]
  },
  {
   "cell_type": "code",
   "execution_count": 7,
   "id": "589bf0ef",
   "metadata": {},
   "outputs": [
    {
     "name": "stdout",
     "output_type": "stream",
     "text": [
      "4\n",
      "10\n"
     ]
    }
   ],
   "source": [
    "y = lambda x : x * x\n",
    "print(y(2))   # 4\n",
    "\n",
    "y= lambda x , y : x * y\n",
    "print(y(2,5)) # 10"
   ]
  },
  {
   "cell_type": "markdown",
   "id": "63a014b4",
   "metadata": {},
   "source": [
    "###  Función recursiva\n",
    "Las funciones recursivas son funciones que se llaman a sí mismas durante su propia ejecución."
   ]
  },
  {
   "cell_type": "code",
   "execution_count": 8,
   "id": "c4afa61c",
   "metadata": {},
   "outputs": [
    {
     "name": "stdout",
     "output_type": "stream",
     "text": [
      "120\n"
     ]
    }
   ],
   "source": [
    "def factorial(numero):\n",
    "    if numero > 1:\n",
    "        numero = numero * factorial(numero -1)\n",
    "    return numero\n",
    "\n",
    "print(factorial(5))"
   ]
  },
  {
   "cell_type": "markdown",
   "id": "68e82db5",
   "metadata": {},
   "source": [
    "## Bucles"
   ]
  },
  {
   "cell_type": "markdown",
   "id": "39aaf23d",
   "metadata": {},
   "source": [
    "### while\n",
    "El bucle while (mientras) ejecuta un fragmento de código mientras se cumpla una condición\n"
   ]
  },
  {
   "cell_type": "code",
   "execution_count": 9,
   "id": "cf23c7bb",
   "metadata": {},
   "outputs": [
    {
     "name": "stdout",
     "output_type": "stream",
     "text": [
      "tiempo = 5\n"
     ]
    }
   ],
   "source": [
    "tiempo = 0\n",
    "while tiempo < 5:\n",
    "    tiempo = tiempo + 1\n",
    "print ('tiempo = '+ str(tiempo))"
   ]
  },
  {
   "cell_type": "code",
   "execution_count": 10,
   "id": "ab3c0d1e",
   "metadata": {},
   "outputs": [
    {
     "name": "stdout",
     "output_type": "stream",
     "text": [
      "tiempo = 5\n"
     ]
    }
   ],
   "source": [
    "continua=True\n",
    "tiempo=0\n",
    "while continua:\n",
    "    tiempo = tiempo + 1\n",
    "    if tiempo > 4:\n",
    "        continua=False\n",
    "print ('tiempo = '+ str(tiempo))"
   ]
  },
  {
   "cell_type": "code",
   "execution_count": 11,
   "id": "212f55f5",
   "metadata": {},
   "outputs": [
    {
     "name": "stdout",
     "output_type": "stream",
     "text": [
      "tiempo = 5\n"
     ]
    }
   ],
   "source": [
    "tiempo=0\n",
    "while True:\n",
    "    tiempo = tiempo + 1\n",
    "    if tiempo > 4:\n",
    "        break\n",
    "print ('tiempo = '+ str(tiempo))"
   ]
  },
  {
   "cell_type": "markdown",
   "id": "2c635a4c",
   "metadata": {},
   "source": [
    "### for ... in"
   ]
  },
  {
   "cell_type": "code",
   "execution_count": 12,
   "id": "3fc461e8",
   "metadata": {},
   "outputs": [
    {
     "name": "stdout",
     "output_type": "stream",
     "text": [
      "uno\n",
      "dos\n",
      "tres\n"
     ]
    }
   ],
   "source": [
    "secuencia = ['uno', 'dos', 'tres']\n",
    "for i in secuencia:\n",
    "    print (i)"
   ]
  },
  {
   "cell_type": "code",
   "execution_count": 13,
   "id": "e4b6d3d4",
   "metadata": {},
   "outputs": [
    {
     "name": "stdout",
     "output_type": "stream",
     "text": [
      "uno\n",
      "dos\n",
      "tres\n"
     ]
    }
   ],
   "source": [
    "for i in range(0,len(secuencia)):\n",
    "    print(secuencia[i])"
   ]
  },
  {
   "cell_type": "code",
   "execution_count": 14,
   "id": "8143e78a",
   "metadata": {},
   "outputs": [
    {
     "name": "stdout",
     "output_type": "stream",
     "text": [
      "0\n",
      "1\n",
      "2\n",
      "3\n"
     ]
    }
   ],
   "source": [
    "for i in range(0,4):\n",
    "    print(i)"
   ]
  },
  {
   "cell_type": "code",
   "execution_count": 15,
   "id": "ad6cf75b",
   "metadata": {},
   "outputs": [
    {
     "name": "stdout",
     "output_type": "stream",
     "text": [
      "0\n",
      "2\n"
     ]
    }
   ],
   "source": [
    "for i in range(0,4,2): #range(start, stop, step) \n",
    "    print(i)"
   ]
  },
  {
   "cell_type": "markdown",
   "id": "5de198f3",
   "metadata": {},
   "source": [
    "<hr>\n",
    "<b><font color='red'>Ejercicio 01</font></b>  \n",
    "\n",
    "- __La media__, es el promedio  \n",
    "$$\\mu = \\frac{1}{N}\\sum_{i=1}^{N} x_i$$\n",
    "- __La desviación estandar__ es una medida que se utiliza para cuantificar la variación o la dispersión de un conjunto de datos numéricos  \n",
    "$$\\sigma = \\sqrt{\\frac{1}{N}\\sum_{i=1}^{N} ( \\mu  - x_i )^{2}} $$\n",
    "Crea una función que te devuelva la media y la desviación estándar de una lista ordenada.  \n",
    "Pruébalo con lista = [4, 1, 11, 13, 2, 7]  \n",
    "ayuda : https://es.wikipedia.org/wiki/Desviaci%C3%B3n_t%C3%ADpica\n"
   ]
  },
  {
   "cell_type": "code",
   "execution_count": 42,
   "id": "1e17a159",
   "metadata": {},
   "outputs": [
    {
     "name": "stdout",
     "output_type": "stream",
     "text": [
      "[4, 1, 11, 13, 2, 7]\n",
      "media = 6.333333333333333 ± 4.459696053419884\n"
     ]
    }
   ],
   "source": [
    "def media(l):\n",
    "    x = 0\n",
    "    for i in range(0,len(lista)):  \n",
    "        x=x+lista[i]\n",
    "    x=x/len(lista)\n",
    "    return x\n",
    "def DES(l):\n",
    "    x=0\n",
    "    med=media(lista)\n",
    "    for i in range(0,len(lista)):\n",
    "        x=x+ (med-lista[i])**(2)\n",
    "    x=x/len(lista)\n",
    "    x=x**(0.5)\n",
    "    return x\n",
    "lista = [4, 1, 11, 13, 2, 7]\n",
    "print(lista)\n",
    "print(\"media = \"+str(media(lista))+\" \\u00B1 \"+str(DES(lista)))"
   ]
  },
  {
   "cell_type": "markdown",
   "id": "f329a7fa",
   "metadata": {},
   "source": [
    "<hr>\n",
    "<b><font color='red'>Ejercicio 02 </font></b>  \n",
    "    \n",
    "En matemática, la sucesión o __serie de Fibonacci__ es la siguiente sucesión infinita de números naturales:  \n",
    "0 , 1 , 1 , 2 , 3 , 5 , 8 , 13 , 21 , 34 , 55 , 89 , 144 , 233 , 377 , 610 , 987 , 1597  \n",
    "Crea una función que te devuelva la serie de Fibonacci hasta un número dado"
   ]
  },
  {
   "cell_type": "code",
   "execution_count": 78,
   "id": "29c01ca4",
   "metadata": {},
   "outputs": [
    {
     "name": "stdout",
     "output_type": "stream",
     "text": [
      "0\n",
      "1\n",
      "1\n",
      "2\n",
      "3\n",
      "5\n",
      "8\n",
      "13\n",
      "21\n",
      "34\n",
      "55\n",
      "89\n",
      "144\n",
      "233\n",
      "377\n",
      "610\n",
      "987\n",
      "1597\n",
      "2584\n",
      "4181\n",
      "6765\n",
      "10946\n",
      "17711\n",
      "28657\n",
      "46368\n",
      "75025\n",
      "121393\n",
      "196418\n",
      "317811\n",
      "514229\n"
     ]
    },
    {
     "data": {
      "text/plain": [
       "30"
      ]
     },
     "execution_count": 78,
     "metadata": {},
     "output_type": "execute_result"
    }
   ],
   "source": [
    "def fibonacci(n):\n",
    "    a=0\n",
    "    b=1\n",
    "    aux=0\n",
    "    if n>=0 :\n",
    "        print(a)\n",
    "        if n>=1:\n",
    "            print(b)\n",
    "            if n>=2:\n",
    "                for i in range(1,n-1):\n",
    "                    aux=a\n",
    "                    a=b\n",
    "                    b=b+aux\n",
    "                    print(b)\n",
    "        \n",
    "    return n\n",
    "#Pongo n-1 porque como siempre, los recorridos empiezan en 0 y no en 1.\n",
    "\n",
    "fibonacci(30)"
   ]
  },
  {
   "cell_type": "markdown",
   "id": "f254e5ed",
   "metadata": {},
   "source": [
    "<hr>\n",
    "<b><font color='red'>Ejercicio 03</font></b>  \n",
    "\n",
    "Cuenta que, cuando Julio César escribía sus mensajes, reemplazaba cada letra por la que estaba tres lugares más adelante en el alfabeto. Es decir,\n",
    "\"césar\" pasaba a ser \"FHVDU\", crea una función llamada Julio_Cesar.py que encripte los mensajes de entrada de la siguiente forma:\n",
    "- Pasa las palabras a mayúsculas\n",
    "- Quita los acentos Á -> A, etc ..\n",
    "- Cambia solo ABCDEFGHIJKLMNÑOPQRSTUVWXYZ\n"
   ]
  },
  {
   "cell_type": "code",
   "execution_count": 99,
   "id": "deb6d43d",
   "metadata": {},
   "outputs": [
    {
     "name": "stdout",
     "output_type": "stream",
     "text": [
      "HOLA JULIO CESAR, ¿QUÉ TAL ESTAS? ABCDEFGHIJKLMNÑOPQRSTUVWXYZ\n",
      "HOLA JULIO CESAR, ¿QUE TAL ESTAS? ABCDEFGHIJKLMNÑOPQRSTUVWXYZ\n",
      "KRÑD MXÑLR FHVDU, ¿TXH WDÑ HVWDV? DEFGHIJKLMNÑOPQRSTUVWXYZABC\n",
      "KRÑD MXÑLR FHVDU, ¿TXH WDÑ HVWDV? DEFGHIJKLMNÑOPQRSTUVWXYZABC\n"
     ]
    }
   ],
   "source": [
    "def Julio_Cesar(entrada):\n",
    "    abc=\"ABCDEFGHIJKLMNÑOPQRSTUVWXYZ\"\n",
    "    abc2=\"DEFGHIJKLMNÑOPQRSTUVWXYZABC\"\n",
    "    entrada=entrada.upper()\n",
    "    print(entrada)\n",
    "    #Comprobamos tildes.\n",
    "    entrada=entrada.replace(\"Á\",\"A\")\n",
    "    entrada=entrada.replace(\"É\",\"E\")\n",
    "    entrada=entrada.replace(\"Í\",\"I\")\n",
    "    entrada=entrada.replace(\"Ó\",\"O\")\n",
    "    entrada=entrada.replace(\"Ú\",\"U\")\n",
    "    print(entrada)\n",
    "    salir=\"\"\n",
    "    #Ahora empezamos a reemplazar\n",
    "    for i in range(0,len(entrada)):\n",
    "        if abc.count(entrada[i]):\n",
    "            salir=salir + abc2[abc.index(entrada[i])]\n",
    "        else :\n",
    "            salir=salir + entrada[i]\n",
    "    print(salir)\n",
    "    \n",
    "    #esta debería ser la salida\n",
    "    salida=\"KRÑD MXÑLR FHVDU, ¿TXH WDÑ HVWDV? DEFGHIJKLMNÑOPQRSTUVWXYZABC\"\n",
    "    \n",
    "    print(salida)\n",
    "\n",
    "Julio_Cesar(\"Hola Julio Cesar, ¿Qué tal estas? ABCDEFGHIJKLMNÑOPQRSTUVWXYZ\")\n"
   ]
  },
  {
   "cell_type": "markdown",
   "id": "b8b59b29",
   "metadata": {},
   "source": [
    "<hr>\n",
    "<b><font color='red'>Ejercicio 04</font></b>  \n",
    "\n",
    "El cifrado con clave, hay algunas formas de mejorar el método de Julio Cesar sin complicarlo demasiado, por ejemplo elegir una palabra clave con todas sus letras diferentes, supongamos que elegimos TUNOMBRE. Escribimos entonces el alfabeto normal junto con el transformado siguiente:\n",
    "\n",
    "    abc=\"ABCDEFGHIJKLMNÑOPQRSTUVWXYZ\"\n",
    "    ABC=\"TUNOMBREACDFGHIJKLÑOPQVWXYZ\" \n",
    "Utiliza tu nombre sin repetir ninguna letra, es decir si te llamas ANTONIO usa ANTOI "
   ]
  },
  {
   "cell_type": "code",
   "execution_count": 5,
   "id": "1ff4a4ba",
   "metadata": {},
   "outputs": [
    {
     "name": "stdout",
     "output_type": "stream",
     "text": [
      "HOLA TU NOMBRE, ¿QUÉ TAL ESTAS? \n",
      "HOLA TU NOMBRE, ¿QUE TAL ESTAS? \n",
      "KRÑD WX PROEUH, ¿TXH WDÑ HVWDV? \n",
      "KRÑD WX PROEUH, ¿TXH WDÑ HVWDV? ISRAELBCDFGHJKMNÑOPQTUVWXYZ\n"
     ]
    }
   ],
   "source": [
    "def tu_nombre(entrada):\n",
    "    abc=\"ABCDEFGHIJKLMNÑOPQRSTUVWXYZ\"\n",
    "    abc2=\"DEFGHIJKLMNÑOPQRSTUVWXYZABC\"\n",
    "    entrada=entrada.upper()\n",
    "    print(entrada)\n",
    "    #Comprobamos tildes.\n",
    "    entrada=entrada.replace(\"Á\",\"A\")\n",
    "    entrada=entrada.replace(\"É\",\"E\")\n",
    "    entrada=entrada.replace(\"Í\",\"I\")\n",
    "    entrada=entrada.replace(\"Ó\",\"O\")\n",
    "    entrada=entrada.replace(\"Ú\",\"U\")\n",
    "    print(entrada)\n",
    "    salir1=\"\"\n",
    "    #Ahora empezamos a reemplazar\n",
    "    for i in range(0,len(entrada)):\n",
    "        if abc.count(entrada[i]):\n",
    "            salir1=salir1 + abc2[abc.index(entrada[i])]\n",
    "        else :\n",
    "            salir1=salir1 + entrada[i]\n",
    "    print(salir1)\n",
    "    \n",
    "    \n",
    "    #esta debería ser la salida\n",
    "    salida=\"ISRAEL\"\n",
    "    salir2=salida\n",
    "    for i in range(0,len(abc)):\n",
    "        if not salida.count(abc[i]):\n",
    "            salir2=salir2 + abc[i]\n",
    "    salir1 += salir2\n",
    "    print(salir1)\n",
    "\n",
    "tu_nombre(\"Hola tu nombre, ¿Qué tal estas? \")"
   ]
  },
  {
   "cell_type": "code",
   "execution_count": null,
   "id": "3d2ecdcf",
   "metadata": {},
   "outputs": [],
   "source": []
  }
 ],
 "metadata": {
  "kernelspec": {
   "display_name": "Python 3 (ipykernel)",
   "language": "python",
   "name": "python3"
  },
  "language_info": {
   "codemirror_mode": {
    "name": "ipython",
    "version": 3
   },
   "file_extension": ".py",
   "mimetype": "text/x-python",
   "name": "python",
   "nbconvert_exporter": "python",
   "pygments_lexer": "ipython3",
   "version": "3.9.7"
  }
 },
 "nbformat": 4,
 "nbformat_minor": 5
}
