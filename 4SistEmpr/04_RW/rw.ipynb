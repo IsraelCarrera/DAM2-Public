{
 "cells": [
  {
   "cell_type": "markdown",
   "id": "0f9b9183",
   "metadata": {},
   "source": [
    "__Cuaderno de trabajo de:__ Israel Carrera Manzaneque"
   ]
  },
  {
   "cell_type": "markdown",
   "id": "1742ac3f",
   "metadata": {},
   "source": [
    "## Lectura y escritura de archivos\n",
    "\n",
    "    f = open(\"archivo.txt\", \"w\")\n",
    "    f.write('Hola mundo\\n')\n",
    "tenemos los siguientes modos:\n",
    "- ‘r’ : Abre el archivo en modo lectura.\n",
    "-‘w’ : write, escritura. Abre el archivo en modo escritura.\n",
    "-‘a’ : append, se diferencia del modo ‘w’ en que en este caso no se sobreescribe el contenido del archivo, sino que se comienza a escribir al final del archivo.\n",
    "-‘b’ : binary, binario.\n",
    "-‘+’ : permite lectura y escritura simultáneas.\n",
    "-‘U’ : universal newline, saltos de línea universales"
   ]
  },
  {
   "cell_type": "code",
   "execution_count": 1,
   "id": "13b13a4d",
   "metadata": {},
   "outputs": [
    {
     "name": "stdout",
     "output_type": "stream",
     "text": [
      "<_io.TextIOWrapper name='archivo.txt' mode='r' encoding='UTF-8'>\n"
     ]
    }
   ],
   "source": [
    "f = open(\"archivo.txt\", \"r\")\n",
    "print(f)"
   ]
  },
  {
   "cell_type": "code",
   "execution_count": 2,
   "id": "7deb95e9",
   "metadata": {},
   "outputs": [
    {
     "name": "stdout",
     "output_type": "stream",
     "text": [
      "1 2\n",
      "2 4\n",
      "3 6\n",
      "4 8\n",
      "\n"
     ]
    }
   ],
   "source": [
    "f = open(\"archivo.txt\", \"r\")\n",
    "completo = f.read()\n",
    "print(completo)\n",
    "f.close()"
   ]
  },
  {
   "cell_type": "code",
   "execution_count": 3,
   "id": "aec3d4d0",
   "metadata": {},
   "outputs": [
    {
     "name": "stdout",
     "output_type": "stream",
     "text": [
      "1 2\n",
      "2 4\n",
      "\n"
     ]
    }
   ],
   "source": [
    "f = open(\"archivo.txt\", \"r\")\n",
    "parte = f.read(8)\n",
    "print(parte)\n",
    "f.close()"
   ]
  },
  {
   "cell_type": "code",
   "execution_count": 15,
   "id": "722b2070",
   "metadata": {},
   "outputs": [
    {
     "name": "stdout",
     "output_type": "stream",
     "text": [
      "1 2\n",
      "\n",
      "2 4\n",
      "\n",
      "3 6\n",
      "\n",
      "4 8\n",
      "\n"
     ]
    }
   ],
   "source": [
    "f = open(\"archivo.txt\", \"r\")\n",
    "while True:\n",
    "    linea = f.readline()\n",
    "    if not linea: \n",
    "        break\n",
    "    print(linea)"
   ]
  },
  {
   "cell_type": "code",
   "execution_count": 76,
   "id": "9a124e51",
   "metadata": {},
   "outputs": [
    {
     "name": "stdout",
     "output_type": "stream",
     "text": [
      "['1', '2']\n",
      "['2', '4']\n",
      "['3', '6']\n",
      "['4', '8']\n"
     ]
    }
   ],
   "source": [
    "archivo=\"archivo.txt\"\n",
    "text=open(archivo).readlines()\n",
    "nmaxlines=len(text)\n",
    "for line in text:\n",
    "    print(line.split())"
   ]
  },
  {
   "cell_type": "markdown",
   "id": "6c54e639",
   "metadata": {},
   "source": [
    "## Manejando excepciones"
   ]
  },
  {
   "cell_type": "code",
   "execution_count": 6,
   "id": "066535ef",
   "metadata": {},
   "outputs": [
    {
     "name": "stdout",
     "output_type": "stream",
     "text": [
      "archivo.txt tiene 4 lineas\n",
      "no pude abrir no_existe.txt\n"
     ]
    }
   ],
   "source": [
    "archivo=\"archivo.txt\"\n",
    "try:\n",
    "    f = open(archivo, 'r')\n",
    "except IOError:\n",
    "    print('no pude abrir', archivo)\n",
    "else:\n",
    "    print(archivo, 'tiene', len(f.readlines()), 'lineas')\n",
    "    f.close()\n",
    "\n",
    "archivo=\"no_existe.txt\"\n",
    "try:\n",
    "    f = open(archivo, 'r')\n",
    "except IOError:\n",
    "    print('no pude abrir', archivo)\n",
    "else:\n",
    "    print(archivo, 'tiene', len(f.readlines()), 'lineas')\n",
    "    f.close()"
   ]
  },
  {
   "cell_type": "markdown",
   "id": "655cf3ad",
   "metadata": {},
   "source": [
    "## Format\n",
    "La forma más sencilla de mostrar algo en la salida estándar es median-\n",
    "te el uso de la sentencia print, la cual permite también utilizar técnicas avanzadas de formateo, de forma similar al sprintf de C\n",
    "Los especificadores más sencillos están formados por el símbolo % seguido de una letra que indica el tipo con el que formatear el valor Por ejemplo:\n",
    "\n",
    "Especificador | Formato\n",
    ":--------: | :-------:\n",
    "%s |Cadena\n",
    "%d |Entero\n",
    "%o |Octal\n",
    "%x |Hexadecimal\n",
    "%f |Real\n"
   ]
  },
  {
   "cell_type": "code",
   "execution_count": 7,
   "id": "d1b203e5",
   "metadata": {},
   "outputs": [
    {
     "name": "stdout",
     "output_type": "stream",
     "text": [
      "      Hola mundo\n"
     ]
    }
   ],
   "source": [
    "print (\"%10s mundo\" % \"Hola\")"
   ]
  },
  {
   "cell_type": "code",
   "execution_count": 8,
   "id": "ad212174",
   "metadata": {},
   "outputs": [
    {
     "name": "stdout",
     "output_type": "stream",
     "text": [
      "Hola       mundo\n"
     ]
    }
   ],
   "source": [
    "print (\"%-10s mundo\" % \"Hola\")"
   ]
  },
  {
   "cell_type": "code",
   "execution_count": 24,
   "id": "ad8c9594",
   "metadata": {},
   "outputs": [
    {
     "name": "stdout",
     "output_type": "stream",
     "text": [
      "3.1416\n",
      "3.141593\n",
      "3.1416 3.141593\n"
     ]
    }
   ],
   "source": [
    "from math import pi\n",
    "print(\"%.4f\" % pi)\n",
    "print(\"%.6f\" % pi)\n",
    "print(\"%.4f\" % pi,\"%.6f\" % pi)"
   ]
  },
  {
   "cell_type": "code",
   "execution_count": 10,
   "id": "557a93b5",
   "metadata": {},
   "outputs": [
    {
     "name": "stdout",
     "output_type": "stream",
     "text": [
      "hola\n"
     ]
    }
   ],
   "source": [
    "print (\"%.4s\" % \"hola mundo\")"
   ]
  },
  {
   "cell_type": "code",
   "execution_count": 68,
   "id": "d7a8b51b",
   "metadata": {},
   "outputs": [
    {
     "name": "stdout",
     "output_type": "stream",
     "text": [
      "  123.456789    123.456789  \n",
      " 9876.543210   9876.543210  \n",
      "<class 'str'>\n"
     ]
    }
   ],
   "source": [
    "n=123.456789\n",
    "cadena='{0:12.6f}  '.format(n)\n",
    "cadena=cadena+'{0:12.6f}  '.format(n)\n",
    "cadena=cadena+\"\\n\"\n",
    "n=9876.54321\n",
    "cadena=cadena+'{0:12.6f}  '.format(n)\n",
    "cadena=cadena+'{0:12.6f}  '.format(n)\n",
    "print(cadena)\n",
    "print(type(cadena))"
   ]
  },
  {
   "cell_type": "markdown",
   "id": "3504e92d",
   "metadata": {},
   "source": [
    "<hr>\n",
    "<b><font color='red'>Ejercicio 01</font></b>  \n",
    "\n",
    "Lee el archivo.txt "
   ]
  },
  {
   "cell_type": "code",
   "execution_count": 48,
   "id": "490ec3a6",
   "metadata": {},
   "outputs": [
    {
     "name": "stdout",
     "output_type": "stream",
     "text": [
      "   1.0    2.00  \n",
      "   2.0    4.00  \n",
      "   3.0    6.00  \n",
      "   4.0    8.00  \n",
      "\n"
     ]
    }
   ],
   "source": [
    "f = open(\"archivo.txt\", \"r\")\n",
    "salida = f.read()\n",
    "f.close()\n",
    "final=\"\"\n",
    "for x in range(0,len(salida)):\n",
    "    if x%2 == 0:\n",
    "        if x%4 ==0:\n",
    "            probando = salida[x]\n",
    "            aux= int(salida[x])\n",
    "            final = final + '{0:6.1f}  '.format(aux)\n",
    "        else:\n",
    "            probando = salida[x]\n",
    "            aux= int(salida[x])\n",
    "            final = final + '{0:6.2f}  '.format(aux) + \"\\n\"\n",
    "        \n",
    "print(final)"
   ]
  },
  {
   "cell_type": "markdown",
   "id": "efb2518c",
   "metadata": {},
   "source": [
    "y haz que tenga la siguiente salida:\n",
    "\n",
    "    1.0   2.00  \n",
    "    2.0   4.00  \n",
    "    3.0   6.00  \n",
    "    4.0   8.00  \n"
   ]
  },
  {
   "cell_type": "markdown",
   "id": "e6b0c37c",
   "metadata": {},
   "source": [
    "<hr>\n",
    "<b><font color='red'>Ejercicio 02</font></b>  "
   ]
  },
  {
   "cell_type": "markdown",
   "id": "3674a8fc",
   "metadata": {},
   "source": [
    "Haz lo mismo con el archvo archivo_error.txt,con ciddado de que a este archivo le falta algún dato, haz que en ese caso cuando lo lea, si no hay dos columnas no lo escriba."
   ]
  },
  {
   "cell_type": "code",
   "execution_count": 49,
   "id": "b37c0956",
   "metadata": {},
   "outputs": [
    {
     "name": "stdout",
     "output_type": "stream",
     "text": [
      "1 2\n",
      "\n",
      "3 6\n",
      "\n",
      "4 8\n",
      "\n"
     ]
    }
   ],
   "source": [
    "archivo=\"archivo_error.txt\"\n",
    "t=open(archivo).readlines()\n",
    "for line in t:\n",
    "    aux = len(line.split())\n",
    "    if(aux >= 2):\n",
    "        print(line)"
   ]
  },
  {
   "cell_type": "markdown",
   "id": "c83e335c",
   "metadata": {},
   "source": [
    "<hr>\n",
    "<b><font color='red'>Ejercicio 03</font></b>  "
   ]
  },
  {
   "cell_type": "markdown",
   "id": "2ba36fe9",
   "metadata": {},
   "source": [
    "Lee el archivo.txt, haz que imprima las columnas en las filas y las filas en las columnas"
   ]
  },
  {
   "cell_type": "code",
   "execution_count": 50,
   "id": "9d29f896",
   "metadata": {},
   "outputs": [
    {
     "name": "stdout",
     "output_type": "stream",
     "text": [
      "Así es la salida inicial: \n",
      "1 2\n",
      "2 4\n",
      "3 6\n",
      "4 8\n",
      "\n",
      "Así es la salida intercambiando filas y columnas: \n",
      "1 2 3 4 \n",
      "2 4 6 8 \n"
     ]
    }
   ],
   "source": [
    "f = open(\"archivo.txt\", \"r\")\n",
    "salida = f.read()\n",
    "f.close()\n",
    "final=\"\"\n",
    "for x in range(0,len(salida)):\n",
    "    if x%4 == 0:\n",
    "        final = final + salida[x] + \" \"\n",
    "final = final + \"\\n\"\n",
    "for x in range(2,len(salida)):\n",
    "    if(x+2)%4 == 0:\n",
    "        final = final + salida[x] + \" \"\n",
    "        \n",
    "print(\"Así es la salida inicial: \")\n",
    "print(salida)\n",
    "print(\"Así es la salida intercambiando filas y columnas: \")\n",
    "print(final)"
   ]
  },
  {
   "cell_type": "markdown",
   "id": "46df5df1",
   "metadata": {},
   "source": [
    "<hr>\n",
    "<b><font color='red'>Ejercicio 04</font></b>  "
   ]
  },
  {
   "cell_type": "markdown",
   "id": "50bbf493",
   "metadata": {},
   "source": [
    "1. Escribe en un archivo la siguiente matriz:\n",
    "$\n",
    "\\begin{equation}\n",
    "\\begin{pmatrix}\n",
    "3 & 1 & 3\\\\\n",
    "-1 & 1 & 0\\\\\n",
    "-2 & 4 & 1\n",
    "\\end{pmatrix}\n",
    "\\end{equation} \n",
    "$\n",
    "2. Lee el archivo\n",
    "3. Calcula con los datos leidos el determinante de la matriz y lo saque por pantalla"
   ]
  },
  {
   "cell_type": "code",
   "execution_count": 51,
   "id": "91a2477f",
   "metadata": {},
   "outputs": [
    {
     "name": "stdout",
     "output_type": "stream",
     "text": [
      "El determinante de la matriz es:  -2\n"
     ]
    }
   ],
   "source": [
    "escribirMatriz = open(\"matriz.txt\", \"w\")\n",
    "escribirMatriz.write('3 1 3\\n-1 1 0\\n-2 4 1')\n",
    "escribirMatriz.close()\n",
    "f = open(\"matriz.txt\", \"r\")\n",
    "salida = f.read()\n",
    "f.close()\n",
    "matriz=salida.split()\n",
    "suma1=int(matriz[0])*int(matriz[4])*int(matriz[8])\n",
    "suma1=suma1+int(matriz[3])*int(matriz[7])*int(matriz[2])\n",
    "suma1=suma1+int(matriz[6])*int(matriz[1])*int(matriz[5])\n",
    "\n",
    "suma2=int(matriz[2])*int(matriz[4])*int(matriz[6])\n",
    "suma2=suma2+int(matriz[5])*int(matriz[7])*int(matriz[0])\n",
    "suma2=suma2+int(matriz[8])*int(matriz[1])*int(matriz[3])\n",
    "determinante= suma1-suma2\n",
    "print(\"El determinante de la matriz es: \", determinante)\n",
    "# Entendiendo que lee todos los numeros, tenemos 9. Así pues vamos a multiplicar."
   ]
  },
  {
   "cell_type": "markdown",
   "id": "cc887d64",
   "metadata": {},
   "source": [
    "<hr>\n",
    "<b><font color='red'>Ejercicio 05</font></b>  "
   ]
  },
  {
   "cell_type": "markdown",
   "id": "c12b13d1",
   "metadata": {},
   "source": [
    "En el criptoanálisis, la técnica de análisis de frecuencias consiste en el aprovechamiento de estudios sobre la frecuencia de las letras o grupos de letras en los idiomas para poder establecer hipótesis para aprovecharlas para poder descifrar un texto cifrado sin tener la clave de descifrado (romper). Es un método típico para romper cifrados clásicos. \n",
    "Haz una anailisis de frecuencias para los 10 primeros càpitulos de el libro \"el_quijote.txt\""
   ]
  },
  {
   "cell_type": "code",
   "execution_count": 52,
   "id": "482c3b4e",
   "metadata": {},
   "outputs": [
    {
     "name": "stdout",
     "output_type": "stream",
     "text": [
      "A   0.127\n",
      "B   0.017\n",
      "C   0.037\n",
      "D   0.053\n",
      "E   0.138\n",
      "F   0.005\n",
      "G   0.011\n",
      "H   0.012\n",
      "I   0.053\n",
      "J   0.007\n",
      "K   0.000\n",
      "L   0.060\n",
      "M   0.026\n",
      "N   0.066\n",
      "Ñ   0.000\n",
      "O   0.099\n",
      "P   0.021\n",
      "Q   0.019\n",
      "R   0.061\n",
      "S   0.073\n",
      "T   0.037\n",
      "U   0.048\n",
      "V   0.011\n",
      "W   0.000\n",
      "X   0.000\n",
      "Y   0.015\n",
      "Z   0.004\n"
     ]
    }
   ],
   "source": [
    "abc=\"ABCDEFGHIJKLMNÑOPQRSTUVWXYZ\"\n",
    "archivo = open(\"el_quijote.txt\", \"r\")\n",
    "quijote=archivo.read()\n",
    "archivo.close()\n",
    "quijote=quijote.upper()\n",
    "quijote=quijote.replace(\"Á\",\"A\")\n",
    "quijote=quijote.replace(\"É\",\"E\")\n",
    "quijote=quijote.replace(\"Í\",\"I\")\n",
    "quijote=quijote.replace(\"Ó\",\"O\")\n",
    "quijote=quijote.replace(\"Ú\",\"U\")\n",
    "longitud=0\n",
    "for i in range (0, len(quijote)):\n",
    "    if(abc.count(quijote[i])):\n",
    "        longitud=longitud+1\n",
    "        \n",
    "        \n",
    "for i in abc:\n",
    "    print(\"%.2c  \" % i,\"%.3f\"% (quijote.count(i)/longitud))\n",
    "    #print(\"%.2c  \" % i,\"%.3f\" % quijote[(abc.count(i))])\n",
    "\n",
    "#for i in abc:\n",
    "#    print(\"%.2c  \" % i,\"%.3f\" % f[(abc.index(i))])"
   ]
  },
  {
   "cell_type": "markdown",
   "id": "bbda7117",
   "metadata": {},
   "source": [
    "Salida:\n",
    "\n",
    "    A   0.127\n",
    "    B   0.017\n",
    "    C   0.037\n",
    "    D   0.053\n",
    "    E   0.138\n",
    "    F   0.005\n",
    "    .\n",
    "    .\n",
    "    ."
   ]
  },
  {
   "cell_type": "markdown",
   "id": "2997dde5",
   "metadata": {},
   "source": [
    "<hr>\n",
    "<b><font color='red'>Ejercicio 06</font></b>  "
   ]
  },
  {
   "cell_type": "markdown",
   "id": "356ffebf",
   "metadata": {},
   "source": [
    "haz un analisis de frecuencias en el libro encriptado \"RH RQCEPESEFM AR MPM.txt\", y comparala con el analisis anterior\n"
   ]
  },
  {
   "cell_type": "code",
   "execution_count": 53,
   "id": "a3ca7ae1",
   "metadata": {},
   "outputs": [
    {
     "name": "stdout",
     "output_type": "stream",
     "text": [
      "el_quijote.txt     RH RQCEPESEFM AR MPM.txt\n",
      "A   0.127          A   0.049\n",
      "B   0.017          B   0.006\n",
      "C   0.037          C   0.040\n",
      "D   0.053          D   0.061\n",
      "E   0.138          E   0.126\n",
      "F   0.005          F   0.007\n",
      "G   0.011          G   0.000\n",
      "H   0.012          H   0.052\n",
      "I   0.053          I   0.032\n",
      "J   0.007          J   0.012\n",
      "K   0.000          K   0.068\n",
      "L   0.060          L   0.001\n",
      "M   0.026          M   0.093\n",
      "N   0.066          N   0.027\n",
      "Ñ   0.000          Ñ   0.011\n",
      "O   0.099          O   0.010\n",
      "P   0.021          P   0.066\n",
      "Q   0.019          Q   0.069\n",
      "R   0.061          R   0.136\n",
      "S   0.073          S   0.017\n",
      "T   0.037          T   0.044\n",
      "U   0.048          U   0.045\n",
      "V   0.011          V   0.009\n",
      "W   0.000          W   0.000\n",
      "X   0.000          X   0.002\n",
      "Y   0.015          Y   0.009\n",
      "Z   0.004          Z   0.004\n"
     ]
    }
   ],
   "source": [
    "abc=\"ABCDEFGHIJKLMNÑOPQRSTUVWXYZ\"\n",
    "arch1=\"el_quijote.txt\"\n",
    "arch2=\"RH RQCEPESEFM AR MPM.txt\"\n",
    "archivo2=open(arch2,\"r\")\n",
    "libro2=archivo2.read()\n",
    "archivo1 = open(arch1, \"r\")\n",
    "quijote=archivo1.read()\n",
    "archivo2.close()\n",
    "archivo1.close()\n",
    "quijote=quijote.upper()\n",
    "quijote=quijote.replace(\"Á\",\"A\")\n",
    "quijote=quijote.replace(\"É\",\"E\")\n",
    "quijote=quijote.replace(\"Í\",\"I\")\n",
    "quijote=quijote.replace(\"Ó\",\"O\")\n",
    "quijote=quijote.replace(\"Ú\",\"U\")\n",
    "longitudQuijote=0\n",
    "longitudLibro2=0\n",
    "for i in range (0, len(quijote)):\n",
    "    if(abc.count(quijote[i])):\n",
    "        longitudQuijote=longitudQuijote+1\n",
    "        \n",
    "for i in range (0, len(libro2)):\n",
    "    if(abc.count(libro2[i])):\n",
    "        longitudLibro2=longitudLibro2+1\n",
    "\n",
    "print(arch1, \"   \", arch2)\n",
    "for i in abc:\n",
    "    print(\"%.2c  \" % i,\"%.3f\"% (quijote.count(i)/longitudQuijote), \"         %.2c  \"% i, \"%.3f\"% (libro2.count(i)/longitudLibro2))\n",
    "    \n",
    "#print(\"el_quijote.txt\",\"  RH RQCEPESEFM AR MPM.txt\")    \n",
    "#for i in abc:\n",
    "#    print(\"%.2c  \" % i,\"%.3f\" % f[(abc.index(i))],\"       %.2c  \" % i,\"%.3f\" % f2[(abc.index(i))])"
   ]
  },
  {
   "cell_type": "markdown",
   "id": "34804739",
   "metadata": {},
   "source": [
    "salida:\n",
    "\n",
    "    el_quijote.txt   RH RQCEPESEFM AR MPM.txt\n",
    "    A   0.127        A   0.049\n",
    "    B   0.017        B   0.006\n",
    "    C   0.037        C   0.040\n",
    "    .                .\n",
    "    .                .\n",
    "    .                ."
   ]
  },
  {
   "cell_type": "markdown",
   "id": "09c15b53",
   "metadata": {},
   "source": [
    "<hr>\n",
    "<b><font color='red'>Ejercicio 07</font></b>  \n",
    "\n",
    "Comparando el analisis de frecuencia sabrías decir cual es el titulo del libro.  \n",
    "RH RQCEPESEFM AR MPM"
   ]
  },
  {
   "cell_type": "markdown",
   "id": "04c10573",
   "metadata": {},
   "source": []
  },
  {
   "cell_type": "code",
   "execution_count": 54,
   "id": "3ae1ba5e",
   "metadata": {},
   "outputs": [
    {
     "name": "stdout",
     "output_type": "stream",
     "text": [
      "(' 0.138', 'E')         (' 0.136', 'R')\n",
      "(' 0.127', 'A')         (' 0.126', 'E')\n",
      "(' 0.099', 'O')         (' 0.093', 'M')\n",
      "(' 0.073', 'S')         (' 0.069', 'Q')\n",
      "(' 0.066', 'N')         (' 0.068', 'K')\n",
      "(' 0.061', 'R')         (' 0.066', 'P')\n",
      "(' 0.060', 'L')         (' 0.061', 'D')\n",
      "(' 0.053', 'I')         (' 0.052', 'H')\n",
      "(' 0.048', 'U')         (' 0.049', 'A')\n",
      "(' 0.037', 'T')         (' 0.045', 'U')\n",
      "(' 0.026', 'M')         (' 0.044', 'T')\n",
      "(' 0.021', 'P')         (' 0.040', 'C')\n",
      "(' 0.019', 'Q')         (' 0.032', 'I')\n",
      "(' 0.017', 'B')         (' 0.027', 'N')\n",
      "(' 0.015', 'Y')         (' 0.017', 'S')\n",
      "(' 0.012', 'H')         (' 0.012', 'J')\n",
      "(' 0.011', 'V')         (' 0.011', 'Ñ')\n",
      "(' 0.007', 'J')         (' 0.010', 'O')\n",
      "(' 0.005', 'F')         (' 0.009', 'Y')\n",
      "(' 0.004', 'Z')         (' 0.007', 'F')\n",
      "(' 0.000', 'X')         (' 0.006', 'B')\n"
     ]
    }
   ],
   "source": [
    "abc=\"ABCDEFGHIJKLMNÑOPQRSTUVWXYZ\"\n",
    "arch1=\"el_quijote.txt\"\n",
    "arch2=\"RH RQCEPESEFM AR MPM.txt\"\n",
    "archivo2=open(arch2,\"r\")\n",
    "libro2=archivo2.read()\n",
    "archivo1 = open(arch1, \"r\")\n",
    "quijote=archivo1.read()\n",
    "archivo2.close()\n",
    "archivo1.close()\n",
    "quijote=quijote.upper()\n",
    "quijote=quijote.replace(\"Á\",\"A\")\n",
    "quijote=quijote.replace(\"É\",\"E\")\n",
    "quijote=quijote.replace(\"Í\",\"I\")\n",
    "quijote=quijote.replace(\"Ó\",\"O\")\n",
    "quijote=quijote.replace(\"Ú\",\"U\")\n",
    "longitudQuijote=0\n",
    "longitudLibro2=0\n",
    "for i in range (0, len(quijote)):\n",
    "    if(abc.count(quijote[i])):\n",
    "        longitudQuijote=longitudQuijote+1\n",
    "        \n",
    "for i in range (0, len(libro2)):\n",
    "    if(abc.count(libro2[i])):\n",
    "        longitudLibro2=longitudLibro2+1\n",
    "\n",
    "analisisQuijote = { }\n",
    "analisisSegundoLibro = { }\n",
    "\n",
    "for i in abc:\n",
    "    analisisQuijote.update({'{0:6.3f}'.format(quijote.count(i)/longitudQuijote):i})\n",
    "    analisisSegundoLibro.update({'{0:6.3f}'.format(libro2.count(i)/longitudLibro2):i})\n",
    "\n",
    "\n",
    "\n",
    "analisisQuijote=sorted(analisisQuijote.items(), reverse=True)\n",
    "analisisSegundoLibro=sorted(analisisSegundoLibro.items(), reverse=True)\n",
    "\n",
    "for i in range(0,len(analisisQuijote)):\n",
    "               print(analisisQuijote[i], \"       \", analisisSegundoLibro[i])\n",
    "\n",
    "# la traducción:\n",
    "# RH RQCEPESEFM AR MPM = ED ESCARAQAJO IE ORO\n",
    "#Qué sería \"EL ESCARABAJO DE ORO\" de Allan Poe."
   ]
  },
  {
   "cell_type": "code",
   "execution_count": null,
   "id": "70741788",
   "metadata": {},
   "outputs": [],
   "source": []
  }
 ],
 "metadata": {
  "kernelspec": {
   "display_name": "Python 3 (ipykernel)",
   "language": "python",
   "name": "python3"
  },
  "language_info": {
   "codemirror_mode": {
    "name": "ipython",
    "version": 3
   },
   "file_extension": ".py",
   "mimetype": "text/x-python",
   "name": "python",
   "nbconvert_exporter": "python",
   "pygments_lexer": "ipython3",
   "version": "3.9.7"
  }
 },
 "nbformat": 4,
 "nbformat_minor": 5
}
